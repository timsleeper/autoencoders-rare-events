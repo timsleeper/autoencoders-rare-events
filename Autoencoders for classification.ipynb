{
 "cells": [
  {
   "cell_type": "markdown",
   "metadata": {},
   "source": [
    "# Autoencoders and prediction of extremely infrequent classes\n",
    "\n",
    "Here we will train a binary classification model using Autoencoders. The objective is to train a model capable of classifying an event that occurs very few times, and for which we have hardly any data. This code is based on the https://github.com/cran2367/ github.\n",
    "\n",
    "We will use the same data set as Creditcard\n",
    "\n",
    "**What is an extremely rare event?**\n",
    "In a rare event problem, we have an unbalanced data set. That is, we have fewer positively labeled samples than negatively labeled samples. In a typical rare event problem, positively labeled data is about 5-10% of the total. In an extremely rare event problem, we have **less than 1% positively labeled data**. For example, in the data set used here it is about 0.6%.\n",
    "These extreme rare event problems are quite common in the real world, e.g. machine breakdowns, bank frauds, etc.\n",
    "\n",
    "Classifying these rare events is quite difficult. The small amount of positively labeled samples prohibits the application of Deep Learning . No matter how big the data is, the use of Deep Learning is limited by the number of positively labeled samples."
   ]
  },
  {
   "cell_type": "code",
   "execution_count": 1,
   "metadata": {},
   "outputs": [],
   "source": [
    "%matplotlib inline\n",
    "import matplotlib.pyplot as plt\n",
    "import seaborn as sns\n",
    "\n",
    "import pandas as pd\n",
    "import numpy as np\n",
    "from pylab import rcParams\n",
    "\n",
    "import tensorflow as tf\n",
    "from keras.models import Model, load_model\n",
    "from keras.layers import Input, Dense\n",
    "from keras.callbacks import ModelCheckpoint, TensorBoard\n",
    "from keras import regularizers\n",
    "\n",
    "from sklearn.preprocessing import StandardScaler\n",
    "from sklearn.model_selection import train_test_split\n",
    "from sklearn.metrics import confusion_matrix, precision_recall_curve\n",
    "from sklearn.metrics import recall_score, classification_report, auc, roc_curve\n",
    "from sklearn.metrics import precision_recall_fscore_support, f1_score\n",
    "\n",
    "from numpy.random import seed\n",
    "seed(1)\n",
    "\"\"\"from tensorflow import set_random_seed\n",
    "set_random_seed(2)\"\"\"\n",
    "\n",
    "SEED = 123 #used to help randomly select the data points\n",
    "DATA_SPLIT_PCT = 0.2\n",
    "\n",
    "rcParams['figure.figsize'] = 8, 6\n",
    "LABELS = [\"Normal\",\"Break\"]"
   ]
  },
  {
   "cell_type": "code",
   "execution_count": 2,
   "metadata": {},
   "outputs": [
    {
     "data": {
      "text/html": [
       "<div>\n",
       "<style scoped>\n",
       "    .dataframe tbody tr th:only-of-type {\n",
       "        vertical-align: middle;\n",
       "    }\n",
       "\n",
       "    .dataframe tbody tr th {\n",
       "        vertical-align: top;\n",
       "    }\n",
       "\n",
       "    .dataframe thead th {\n",
       "        text-align: right;\n",
       "    }\n",
       "</style>\n",
       "<table border=\"1\" class=\"dataframe\">\n",
       "  <thead>\n",
       "    <tr style=\"text-align: right;\">\n",
       "      <th></th>\n",
       "      <th>Time</th>\n",
       "      <th>V1</th>\n",
       "      <th>V2</th>\n",
       "      <th>V3</th>\n",
       "      <th>V4</th>\n",
       "      <th>V5</th>\n",
       "      <th>V6</th>\n",
       "      <th>V7</th>\n",
       "      <th>V8</th>\n",
       "      <th>V9</th>\n",
       "      <th>...</th>\n",
       "      <th>V21</th>\n",
       "      <th>V22</th>\n",
       "      <th>V23</th>\n",
       "      <th>V24</th>\n",
       "      <th>V25</th>\n",
       "      <th>V26</th>\n",
       "      <th>V27</th>\n",
       "      <th>V28</th>\n",
       "      <th>Amount</th>\n",
       "      <th>Class</th>\n",
       "    </tr>\n",
       "  </thead>\n",
       "  <tbody>\n",
       "    <tr>\n",
       "      <th>0</th>\n",
       "      <td>0.000000</td>\n",
       "      <td>-1.359807</td>\n",
       "      <td>-0.072781</td>\n",
       "      <td>2.536347</td>\n",
       "      <td>1.378155</td>\n",
       "      <td>-0.338321</td>\n",
       "      <td>0.462388</td>\n",
       "      <td>0.239599</td>\n",
       "      <td>0.098698</td>\n",
       "      <td>0.363787</td>\n",
       "      <td>...</td>\n",
       "      <td>-0.018307</td>\n",
       "      <td>0.277838</td>\n",
       "      <td>-0.110474</td>\n",
       "      <td>0.066928</td>\n",
       "      <td>0.128539</td>\n",
       "      <td>-0.189115</td>\n",
       "      <td>0.133558</td>\n",
       "      <td>-0.021053</td>\n",
       "      <td>149.62</td>\n",
       "      <td>0</td>\n",
       "    </tr>\n",
       "    <tr>\n",
       "      <th>1</th>\n",
       "      <td>0.000000</td>\n",
       "      <td>1.191857</td>\n",
       "      <td>0.266151</td>\n",
       "      <td>0.166480</td>\n",
       "      <td>0.448154</td>\n",
       "      <td>0.060018</td>\n",
       "      <td>-0.082361</td>\n",
       "      <td>-0.078803</td>\n",
       "      <td>0.085102</td>\n",
       "      <td>-0.255425</td>\n",
       "      <td>...</td>\n",
       "      <td>-0.225775</td>\n",
       "      <td>-0.638672</td>\n",
       "      <td>0.101288</td>\n",
       "      <td>-0.339846</td>\n",
       "      <td>0.167170</td>\n",
       "      <td>0.125895</td>\n",
       "      <td>-0.008983</td>\n",
       "      <td>0.014724</td>\n",
       "      <td>2.69</td>\n",
       "      <td>0</td>\n",
       "    </tr>\n",
       "    <tr>\n",
       "      <th>2</th>\n",
       "      <td>0.000278</td>\n",
       "      <td>-1.358354</td>\n",
       "      <td>-1.340163</td>\n",
       "      <td>1.773209</td>\n",
       "      <td>0.379780</td>\n",
       "      <td>-0.503198</td>\n",
       "      <td>1.800499</td>\n",
       "      <td>0.791461</td>\n",
       "      <td>0.247676</td>\n",
       "      <td>-1.514654</td>\n",
       "      <td>...</td>\n",
       "      <td>0.247998</td>\n",
       "      <td>0.771679</td>\n",
       "      <td>0.909412</td>\n",
       "      <td>-0.689281</td>\n",
       "      <td>-0.327642</td>\n",
       "      <td>-0.139097</td>\n",
       "      <td>-0.055353</td>\n",
       "      <td>-0.059752</td>\n",
       "      <td>378.66</td>\n",
       "      <td>0</td>\n",
       "    </tr>\n",
       "    <tr>\n",
       "      <th>3</th>\n",
       "      <td>0.000278</td>\n",
       "      <td>-0.966272</td>\n",
       "      <td>-0.185226</td>\n",
       "      <td>1.792993</td>\n",
       "      <td>-0.863291</td>\n",
       "      <td>-0.010309</td>\n",
       "      <td>1.247203</td>\n",
       "      <td>0.237609</td>\n",
       "      <td>0.377436</td>\n",
       "      <td>-1.387024</td>\n",
       "      <td>...</td>\n",
       "      <td>-0.108300</td>\n",
       "      <td>0.005274</td>\n",
       "      <td>-0.190321</td>\n",
       "      <td>-1.175575</td>\n",
       "      <td>0.647376</td>\n",
       "      <td>-0.221929</td>\n",
       "      <td>0.062723</td>\n",
       "      <td>0.061458</td>\n",
       "      <td>123.50</td>\n",
       "      <td>0</td>\n",
       "    </tr>\n",
       "    <tr>\n",
       "      <th>4</th>\n",
       "      <td>0.000556</td>\n",
       "      <td>-1.158233</td>\n",
       "      <td>0.877737</td>\n",
       "      <td>1.548718</td>\n",
       "      <td>0.403034</td>\n",
       "      <td>-0.407193</td>\n",
       "      <td>0.095921</td>\n",
       "      <td>0.592941</td>\n",
       "      <td>-0.270533</td>\n",
       "      <td>0.817739</td>\n",
       "      <td>...</td>\n",
       "      <td>-0.009431</td>\n",
       "      <td>0.798278</td>\n",
       "      <td>-0.137458</td>\n",
       "      <td>0.141267</td>\n",
       "      <td>-0.206010</td>\n",
       "      <td>0.502292</td>\n",
       "      <td>0.219422</td>\n",
       "      <td>0.215153</td>\n",
       "      <td>69.99</td>\n",
       "      <td>0</td>\n",
       "    </tr>\n",
       "  </tbody>\n",
       "</table>\n",
       "<p>5 rows × 31 columns</p>\n",
       "</div>"
      ],
      "text/plain": [
       "       Time        V1        V2        V3        V4        V5        V6  \\\n",
       "0  0.000000 -1.359807 -0.072781  2.536347  1.378155 -0.338321  0.462388   \n",
       "1  0.000000  1.191857  0.266151  0.166480  0.448154  0.060018 -0.082361   \n",
       "2  0.000278 -1.358354 -1.340163  1.773209  0.379780 -0.503198  1.800499   \n",
       "3  0.000278 -0.966272 -0.185226  1.792993 -0.863291 -0.010309  1.247203   \n",
       "4  0.000556 -1.158233  0.877737  1.548718  0.403034 -0.407193  0.095921   \n",
       "\n",
       "         V7        V8        V9  ...       V21       V22       V23       V24  \\\n",
       "0  0.239599  0.098698  0.363787  ... -0.018307  0.277838 -0.110474  0.066928   \n",
       "1 -0.078803  0.085102 -0.255425  ... -0.225775 -0.638672  0.101288 -0.339846   \n",
       "2  0.791461  0.247676 -1.514654  ...  0.247998  0.771679  0.909412 -0.689281   \n",
       "3  0.237609  0.377436 -1.387024  ... -0.108300  0.005274 -0.190321 -1.175575   \n",
       "4  0.592941 -0.270533  0.817739  ... -0.009431  0.798278 -0.137458  0.141267   \n",
       "\n",
       "        V25       V26       V27       V28  Amount  Class  \n",
       "0  0.128539 -0.189115  0.133558 -0.021053  149.62      0  \n",
       "1  0.167170  0.125895 -0.008983  0.014724    2.69      0  \n",
       "2 -0.327642 -0.139097 -0.055353 -0.059752  378.66      0  \n",
       "3  0.647376 -0.221929  0.062723  0.061458  123.50      0  \n",
       "4 -0.206010  0.502292  0.219422  0.215153   69.99      0  \n",
       "\n",
       "[5 rows x 31 columns]"
      ]
     },
     "execution_count": 2,
     "metadata": {},
     "output_type": "execute_result"
    }
   ],
   "source": [
    "df = pd.read_csv(\"data/creditcard.csv.zip\", compression='zip')\n",
    "df[\"Time\"] = df[\"Time\"].apply(lambda x : x / 3600 % 24)\n",
    "df.head()"
   ]
  },
  {
   "cell_type": "code",
   "execution_count": 3,
   "metadata": {},
   "outputs": [
    {
     "data": {
      "text/html": [
       "<div>\n",
       "<style scoped>\n",
       "    .dataframe tbody tr th:only-of-type {\n",
       "        vertical-align: middle;\n",
       "    }\n",
       "\n",
       "    .dataframe tbody tr th {\n",
       "        vertical-align: top;\n",
       "    }\n",
       "\n",
       "    .dataframe thead th {\n",
       "        text-align: right;\n",
       "    }\n",
       "</style>\n",
       "<table border=\"1\" class=\"dataframe\">\n",
       "  <thead>\n",
       "    <tr style=\"text-align: right;\">\n",
       "      <th></th>\n",
       "      <th>Target</th>\n",
       "      <th>Count</th>\n",
       "      <th>percent</th>\n",
       "    </tr>\n",
       "  </thead>\n",
       "  <tbody>\n",
       "    <tr>\n",
       "      <th>0</th>\n",
       "      <td>0</td>\n",
       "      <td>284315</td>\n",
       "      <td>99.83</td>\n",
       "    </tr>\n",
       "    <tr>\n",
       "      <th>1</th>\n",
       "      <td>1</td>\n",
       "      <td>492</td>\n",
       "      <td>0.17</td>\n",
       "    </tr>\n",
       "  </tbody>\n",
       "</table>\n",
       "</div>"
      ],
      "text/plain": [
       "   Target   Count  percent\n",
       "0       0  284315    99.83\n",
       "1       1     492     0.17"
      ]
     },
     "execution_count": 3,
     "metadata": {},
     "output_type": "execute_result"
    }
   ],
   "source": [
    "vc = df['Class'].value_counts().to_frame().reset_index()\n",
    "vc['percent'] = vc[\"Class\"].apply(lambda x : round(100*float(x) / len(df), 2))\n",
    "vc = vc.rename(columns = {\"index\" : \"Target\", \"Class\" : \"Count\"})\n",
    "vc"
   ]
  },
  {
   "cell_type": "code",
   "execution_count": 4,
   "metadata": {},
   "outputs": [],
   "source": [
    "df_train, df_test = train_test_split(df, test_size=DATA_SPLIT_PCT, random_state=SEED)\n",
    "df_train, df_valid = train_test_split(df_train, test_size=DATA_SPLIT_PCT, random_state=SEED)"
   ]
  },
  {
   "cell_type": "markdown",
   "metadata": {},
   "source": [
    "In the automatic encoder, we will encode only the negatively labeled data. That is, we will take the part of data for which y = 0 and build an automatic encoder. For that, we will divide the data sets as follows."
   ]
  },
  {
   "cell_type": "code",
   "execution_count": 5,
   "metadata": {},
   "outputs": [],
   "source": [
    "df_train_0 = df_train.loc[df['Class'] == 0]\n",
    "df_train_1 = df_train.loc[df['Class'] == 1]\n",
    "df_train_0_x = df_train_0.drop(['Class'], axis=1)\n",
    "df_train_1_x = df_train_1.drop(['Class'], axis=1)\n",
    "\n",
    "df_valid_0 = df_valid.loc[df['Class'] == 0]\n",
    "df_valid_1 = df_valid.loc[df['Class'] == 1]\n",
    "df_valid_0_x = df_valid_0.drop(['Class'], axis=1)\n",
    "df_valid_1_x = df_valid_1.drop(['Class'], axis=1)\n",
    "\n",
    "df_test_0 = df_test.loc[df['Class'] == 0]\n",
    "df_test_1 = df_test.loc[df['Class'] == 1]\n",
    "df_test_0_x = df_test_0.drop(['Class'], axis=1)\n",
    "df_test_1_x = df_test_1.drop(['Class'], axis=1)"
   ]
  },
  {
   "cell_type": "markdown",
   "metadata": {},
   "source": [
    "### Standardize the data\n",
    "In general, it is best to use standardized data (transformed to Gaussian, mean 0 and sd 1) for automatic encoders."
   ]
  },
  {
   "cell_type": "code",
   "execution_count": 7,
   "metadata": {},
   "outputs": [],
   "source": [
    "scaler = StandardScaler().fit(df_train_0_x)\n",
    "df_train_0_x_rescaled = scaler.transform(df_train_0_x)\n",
    "df_valid_0_x_rescaled = scaler.transform(df_valid_0_x)\n",
    "df_valid_x_rescaled = scaler.transform(df_valid.drop(['Class'], axis = 1))\n",
    "\n",
    "df_test_0_x_rescaled = scaler.transform(df_test_0_x)\n",
    "df_test_x_rescaled = scaler.transform(df_test.drop(['Class'], axis = 1))"
   ]
  },
  {
   "cell_type": "markdown",
   "metadata": {},
   "source": [
    "First we will initialize the Autoencoder architecture. We are building a simple Autoencoder. More complex architectures and other configurations should be explored."
   ]
  },
  {
   "cell_type": "code",
   "execution_count": 8,
   "metadata": {},
   "outputs": [
    {
     "name": "stdout",
     "output_type": "stream",
     "text": [
      "Metal device set to: Apple M1\n",
      "\n",
      "systemMemory: 16.00 GB\n",
      "maxCacheSize: 5.33 GB\n",
      "\n",
      "Model: \"model\"\n",
      "_________________________________________________________________\n",
      " Layer (type)                Output Shape              Param #   \n",
      "=================================================================\n",
      " input_1 (InputLayer)        [(None, 30)]              0         \n",
      "                                                                 \n",
      " dense (Dense)               (None, 32)                992       \n",
      "                                                                 \n",
      " dense_1 (Dense)             (None, 16)                528       \n",
      "                                                                 \n",
      " dense_2 (Dense)             (None, 16)                272       \n",
      "                                                                 \n",
      " dense_3 (Dense)             (None, 32)                544       \n",
      "                                                                 \n",
      " dense_4 (Dense)             (None, 30)                990       \n",
      "                                                                 \n",
      "=================================================================\n",
      "Total params: 3,326\n",
      "Trainable params: 3,326\n",
      "Non-trainable params: 0\n",
      "_________________________________________________________________\n"
     ]
    },
    {
     "name": "stderr",
     "output_type": "stream",
     "text": [
      "2022-07-24 18:53:17.091575: I tensorflow/core/common_runtime/pluggable_device/pluggable_device_factory.cc:305] Could not identify NUMA node of platform GPU ID 0, defaulting to 0. Your kernel may not have been built with NUMA support.\n",
      "2022-07-24 18:53:17.092120: I tensorflow/core/common_runtime/pluggable_device/pluggable_device_factory.cc:271] Created TensorFlow device (/job:localhost/replica:0/task:0/device:GPU:0 with 0 MB memory) -> physical PluggableDevice (device: 0, name: METAL, pci bus id: <undefined>)\n"
     ]
    }
   ],
   "source": [
    "nb_epoch = 100\n",
    "batch_size = 128\n",
    "input_dim = df_train_0_x_rescaled.shape[1] #num of predictor variables, \n",
    "encoding_dim = 32\n",
    "hidden_dim = int(encoding_dim / 2)\n",
    "learning_rate = 1e-3\n",
    "\n",
    "input_layer = Input(shape=(input_dim, ))\n",
    "encoder = Dense(encoding_dim, activation=\"relu\", \n",
    "                activity_regularizer=regularizers.l1(learning_rate))(input_layer)\n",
    "encoder = Dense(hidden_dim, activation=\"relu\")(encoder)\n",
    "\n",
    "decoder = Dense(hidden_dim, activation=\"relu\")(encoder)\n",
    "decoder = Dense(encoding_dim, activation=\"relu\")(decoder)\n",
    "decoder = Dense(input_dim, activation=\"linear\")(decoder)\n",
    "\n",
    "autoencoder = Model(inputs=input_layer, outputs=decoder)\n",
    "autoencoder.summary()"
   ]
  },
  {
   "cell_type": "code",
   "execution_count": 9,
   "metadata": {},
   "outputs": [
    {
     "name": "stdout",
     "output_type": "stream",
     "text": [
      "Epoch 1/100\n"
     ]
    },
    {
     "name": "stderr",
     "output_type": "stream",
     "text": [
      "2022-07-24 18:53:33.141239: W tensorflow/core/platform/profile_utils/cpu_utils.cc:128] Failed to get CPU frequency: 0 Hz\n",
      "2022-07-24 18:53:33.562449: I tensorflow/core/grappler/optimizers/custom_graph_optimizer_registry.cc:113] Plugin optimizer for device_type GPU is enabled.\n"
     ]
    },
    {
     "name": "stdout",
     "output_type": "stream",
     "text": [
      "1422/1422 [==============================] - ETA: 0s - loss: 0.5322 - accuracy: 0.3597"
     ]
    },
    {
     "name": "stderr",
     "output_type": "stream",
     "text": [
      "2022-07-24 18:53:43.682985: I tensorflow/core/grappler/optimizers/custom_graph_optimizer_registry.cc:113] Plugin optimizer for device_type GPU is enabled.\n"
     ]
    },
    {
     "name": "stdout",
     "output_type": "stream",
     "text": [
      "1422/1422 [==============================] - 12s 8ms/step - loss: 0.5322 - accuracy: 0.3597 - val_loss: 0.3238 - val_accuracy: 0.5007\n",
      "Epoch 2/100\n",
      "1422/1422 [==============================] - 12s 8ms/step - loss: 0.2612 - accuracy: 0.5508 - val_loss: 0.2111 - val_accuracy: 0.5885\n",
      "Epoch 3/100\n",
      "1422/1422 [==============================] - 10s 7ms/step - loss: 0.1978 - accuracy: 0.6077 - val_loss: 0.1766 - val_accuracy: 0.6299\n",
      "Epoch 4/100\n",
      "1422/1422 [==============================] - 12s 8ms/step - loss: 0.1728 - accuracy: 0.6346 - val_loss: 0.1591 - val_accuracy: 0.6490\n",
      "Epoch 5/100\n",
      "1422/1422 [==============================] - 11s 8ms/step - loss: 0.1586 - accuracy: 0.6582 - val_loss: 0.1483 - val_accuracy: 0.6698\n",
      "Epoch 6/100\n",
      "1422/1422 [==============================] - 11s 7ms/step - loss: 0.1476 - accuracy: 0.6818 - val_loss: 0.1522 - val_accuracy: 0.6777\n",
      "Epoch 7/100\n",
      "1422/1422 [==============================] - 13s 9ms/step - loss: 0.1385 - accuracy: 0.7038 - val_loss: 0.1274 - val_accuracy: 0.7237\n",
      "Epoch 8/100\n",
      "1422/1422 [==============================] - 13s 9ms/step - loss: 0.1290 - accuracy: 0.7275 - val_loss: 0.1179 - val_accuracy: 0.7454\n",
      "Epoch 9/100\n",
      "1422/1422 [==============================] - 13s 9ms/step - loss: 0.1213 - accuracy: 0.7482 - val_loss: 0.1199 - val_accuracy: 0.7573\n",
      "Epoch 10/100\n",
      "1422/1422 [==============================] - 16s 11ms/step - loss: 0.1154 - accuracy: 0.7635 - val_loss: 0.1068 - val_accuracy: 0.7719\n",
      "Epoch 11/100\n",
      "1422/1422 [==============================] - 11s 8ms/step - loss: 0.1103 - accuracy: 0.7749 - val_loss: 0.1015 - val_accuracy: 0.7828\n",
      "Epoch 12/100\n",
      "1422/1422 [==============================] - 11s 8ms/step - loss: 0.1066 - accuracy: 0.7834 - val_loss: 0.1012 - val_accuracy: 0.7883\n",
      "Epoch 13/100\n",
      "1422/1422 [==============================] - 11s 8ms/step - loss: 0.1036 - accuracy: 0.7881 - val_loss: 0.0961 - val_accuracy: 0.7962\n",
      "Epoch 14/100\n",
      "1422/1422 [==============================] - 12s 9ms/step - loss: 0.1004 - accuracy: 0.7946 - val_loss: 0.1045 - val_accuracy: 0.7594\n",
      "Epoch 15/100\n",
      "1422/1422 [==============================] - 13s 9ms/step - loss: 0.0990 - accuracy: 0.7963 - val_loss: 0.0962 - val_accuracy: 0.7972\n",
      "Epoch 16/100\n",
      "1422/1422 [==============================] - 11s 7ms/step - loss: 0.0968 - accuracy: 0.7989 - val_loss: 0.0894 - val_accuracy: 0.8028\n",
      "Epoch 17/100\n",
      "1422/1422 [==============================] - 10s 7ms/step - loss: 0.0950 - accuracy: 0.8005 - val_loss: 0.0889 - val_accuracy: 0.7993\n",
      "Epoch 18/100\n",
      "1422/1422 [==============================] - 11s 8ms/step - loss: 0.0935 - accuracy: 0.8018 - val_loss: 0.0875 - val_accuracy: 0.8058\n",
      "Epoch 19/100\n",
      "1422/1422 [==============================] - 10s 7ms/step - loss: 0.0916 - accuracy: 0.8045 - val_loss: 0.0848 - val_accuracy: 0.8119\n",
      "Epoch 20/100\n",
      "1422/1422 [==============================] - 11s 8ms/step - loss: 0.0909 - accuracy: 0.8050 - val_loss: 0.0823 - val_accuracy: 0.8118\n",
      "Epoch 21/100\n",
      "1422/1422 [==============================] - 12s 8ms/step - loss: 0.0898 - accuracy: 0.8064 - val_loss: 0.0823 - val_accuracy: 0.8091\n",
      "Epoch 22/100\n",
      "1422/1422 [==============================] - 11s 8ms/step - loss: 0.0890 - accuracy: 0.8075 - val_loss: 0.0811 - val_accuracy: 0.8113\n",
      "Epoch 23/100\n",
      "1422/1422 [==============================] - 14s 10ms/step - loss: 0.0873 - accuracy: 0.8091 - val_loss: 0.0797 - val_accuracy: 0.8166\n",
      "Epoch 24/100\n",
      "1422/1422 [==============================] - 11s 7ms/step - loss: 0.0864 - accuracy: 0.8096 - val_loss: 0.0802 - val_accuracy: 0.8181\n",
      "Epoch 25/100\n",
      "1422/1422 [==============================] - 11s 7ms/step - loss: 0.0849 - accuracy: 0.8099 - val_loss: 0.0790 - val_accuracy: 0.8150\n",
      "Epoch 26/100\n",
      "1422/1422 [==============================] - 11s 8ms/step - loss: 0.0833 - accuracy: 0.8099 - val_loss: 0.1038 - val_accuracy: 0.7966\n",
      "Epoch 27/100\n",
      "1422/1422 [==============================] - 11s 8ms/step - loss: 0.0802 - accuracy: 0.8121 - val_loss: 0.0799 - val_accuracy: 0.8129\n",
      "Epoch 28/100\n",
      "1422/1422 [==============================] - 11s 8ms/step - loss: 0.0802 - accuracy: 0.8121 - val_loss: 0.0799 - val_accuracy: 0.8154\n",
      "Epoch 29/100\n",
      "1422/1422 [==============================] - 12s 9ms/step - loss: 0.0787 - accuracy: 0.8139 - val_loss: 0.0768 - val_accuracy: 0.8170\n",
      "Epoch 30/100\n",
      "1422/1422 [==============================] - 11s 8ms/step - loss: 0.0781 - accuracy: 0.8147 - val_loss: 0.0775 - val_accuracy: 0.8154\n",
      "Epoch 31/100\n",
      "1422/1422 [==============================] - 11s 8ms/step - loss: 0.0772 - accuracy: 0.8159 - val_loss: 0.0759 - val_accuracy: 0.8184\n",
      "Epoch 32/100\n",
      "1422/1422 [==============================] - 10s 7ms/step - loss: 0.0769 - accuracy: 0.8163 - val_loss: 0.0754 - val_accuracy: 0.8169\n",
      "Epoch 33/100\n",
      "1422/1422 [==============================] - 10s 7ms/step - loss: 0.0763 - accuracy: 0.8165 - val_loss: 0.0735 - val_accuracy: 0.8224\n",
      "Epoch 34/100\n",
      "1422/1422 [==============================] - 15s 11ms/step - loss: 0.0758 - accuracy: 0.8166 - val_loss: 0.0741 - val_accuracy: 0.8190\n",
      "Epoch 35/100\n",
      "1422/1422 [==============================] - 14s 10ms/step - loss: 0.0736 - accuracy: 0.8156 - val_loss: 0.0759 - val_accuracy: 0.7961\n",
      "Epoch 36/100\n",
      "1422/1422 [==============================] - 14s 10ms/step - loss: 0.0697 - accuracy: 0.8153 - val_loss: 0.0691 - val_accuracy: 0.8115\n",
      "Epoch 37/100\n",
      "1422/1422 [==============================] - 11s 8ms/step - loss: 0.0666 - accuracy: 0.8214 - val_loss: 0.0612 - val_accuracy: 0.8361\n",
      "Epoch 38/100\n",
      "1422/1422 [==============================] - 11s 8ms/step - loss: 0.0624 - accuracy: 0.8343 - val_loss: 0.0688 - val_accuracy: 0.8324\n",
      "Epoch 39/100\n",
      "1422/1422 [==============================] - 13s 9ms/step - loss: 0.0614 - accuracy: 0.8422 - val_loss: 0.0590 - val_accuracy: 0.8467\n",
      "Epoch 40/100\n",
      "1422/1422 [==============================] - 13s 9ms/step - loss: 0.0595 - accuracy: 0.8472 - val_loss: 0.0561 - val_accuracy: 0.8561\n",
      "Epoch 41/100\n",
      "1422/1422 [==============================] - 13s 9ms/step - loss: 0.0580 - accuracy: 0.8502 - val_loss: 0.0562 - val_accuracy: 0.8596\n",
      "Epoch 42/100\n",
      "1422/1422 [==============================] - 12s 9ms/step - loss: 0.0582 - accuracy: 0.8516 - val_loss: 0.0553 - val_accuracy: 0.8569\n",
      "Epoch 43/100\n",
      "1422/1422 [==============================] - 12s 8ms/step - loss: 0.0573 - accuracy: 0.8522 - val_loss: 0.0534 - val_accuracy: 0.8631\n",
      "Epoch 44/100\n",
      "1422/1422 [==============================] - 11s 8ms/step - loss: 0.0570 - accuracy: 0.8535 - val_loss: 0.0535 - val_accuracy: 0.8600\n",
      "Epoch 45/100\n",
      "1422/1422 [==============================] - 10s 7ms/step - loss: 0.0563 - accuracy: 0.8542 - val_loss: 0.0533 - val_accuracy: 0.8643\n",
      "Epoch 46/100\n",
      "1422/1422 [==============================] - 11s 8ms/step - loss: 0.0562 - accuracy: 0.8553 - val_loss: 0.0542 - val_accuracy: 0.8559\n",
      "Epoch 47/100\n",
      "1422/1422 [==============================] - 12s 8ms/step - loss: 0.0555 - accuracy: 0.8573 - val_loss: 0.0553 - val_accuracy: 0.8575\n",
      "Epoch 48/100\n",
      "1422/1422 [==============================] - 12s 8ms/step - loss: 0.0557 - accuracy: 0.8564 - val_loss: 0.0522 - val_accuracy: 0.8594\n",
      "Epoch 49/100\n",
      "1422/1422 [==============================] - 14s 10ms/step - loss: 0.0555 - accuracy: 0.8578 - val_loss: 0.0519 - val_accuracy: 0.8647\n",
      "Epoch 50/100\n",
      "1422/1422 [==============================] - 11s 8ms/step - loss: 0.0557 - accuracy: 0.8559 - val_loss: 0.0518 - val_accuracy: 0.8631\n",
      "Epoch 51/100\n",
      "1422/1422 [==============================] - 11s 8ms/step - loss: 0.0545 - accuracy: 0.8589 - val_loss: 0.0533 - val_accuracy: 0.8583\n",
      "Epoch 52/100\n",
      "1422/1422 [==============================] - 11s 8ms/step - loss: 0.0535 - accuracy: 0.8597 - val_loss: 0.0505 - val_accuracy: 0.8689\n",
      "Epoch 53/100\n",
      "1422/1422 [==============================] - 11s 8ms/step - loss: 0.0528 - accuracy: 0.8607 - val_loss: 0.0532 - val_accuracy: 0.8607\n",
      "Epoch 54/100\n",
      "1422/1422 [==============================] - 12s 9ms/step - loss: 0.0530 - accuracy: 0.8602 - val_loss: 0.0539 - val_accuracy: 0.8440\n",
      "Epoch 55/100\n",
      "1422/1422 [==============================] - 13s 9ms/step - loss: 0.0527 - accuracy: 0.8607 - val_loss: 0.0543 - val_accuracy: 0.8562\n",
      "Epoch 56/100\n",
      "1422/1422 [==============================] - 12s 8ms/step - loss: 0.0530 - accuracy: 0.8603 - val_loss: 0.0504 - val_accuracy: 0.8647\n",
      "Epoch 57/100\n",
      "1422/1422 [==============================] - 11s 7ms/step - loss: 0.0527 - accuracy: 0.8608 - val_loss: 0.0544 - val_accuracy: 0.8623\n",
      "Epoch 58/100\n",
      "1422/1422 [==============================] - 10s 7ms/step - loss: 0.0517 - accuracy: 0.8624 - val_loss: 0.0522 - val_accuracy: 0.8499\n",
      "Epoch 59/100\n",
      "1422/1422 [==============================] - 12s 8ms/step - loss: 0.0512 - accuracy: 0.8623 - val_loss: 0.0537 - val_accuracy: 0.8564\n",
      "Epoch 60/100\n",
      "1422/1422 [==============================] - 13s 9ms/step - loss: 0.0524 - accuracy: 0.8617 - val_loss: 0.0491 - val_accuracy: 0.8670\n",
      "Epoch 61/100\n",
      "1422/1422 [==============================] - 14s 10ms/step - loss: 0.0513 - accuracy: 0.8633 - val_loss: 0.0496 - val_accuracy: 0.8661\n",
      "Epoch 62/100\n",
      "1422/1422 [==============================] - 13s 9ms/step - loss: 0.0536 - accuracy: 0.8608 - val_loss: 0.0623 - val_accuracy: 0.8493\n",
      "Epoch 63/100\n",
      "1422/1422 [==============================] - 11s 8ms/step - loss: 0.0515 - accuracy: 0.8637 - val_loss: 0.0485 - val_accuracy: 0.8660\n",
      "Epoch 64/100\n",
      "1422/1422 [==============================] - 11s 8ms/step - loss: 0.0505 - accuracy: 0.8651 - val_loss: 0.0497 - val_accuracy: 0.8600\n",
      "Epoch 65/100\n",
      "1422/1422 [==============================] - 11s 8ms/step - loss: 0.0503 - accuracy: 0.8658 - val_loss: 0.0503 - val_accuracy: 0.8639\n",
      "Epoch 66/100\n",
      "1422/1422 [==============================] - 13s 9ms/step - loss: 0.0504 - accuracy: 0.8659 - val_loss: 0.0473 - val_accuracy: 0.8733\n",
      "Epoch 67/100\n",
      "1422/1422 [==============================] - 14s 10ms/step - loss: 0.0501 - accuracy: 0.8642 - val_loss: 0.0479 - val_accuracy: 0.8696\n",
      "Epoch 68/100\n",
      "1422/1422 [==============================] - 13s 9ms/step - loss: 0.0502 - accuracy: 0.8646 - val_loss: 0.0499 - val_accuracy: 0.8647\n",
      "Epoch 69/100\n",
      "1422/1422 [==============================] - 12s 8ms/step - loss: 0.0486 - accuracy: 0.8668 - val_loss: 0.0478 - val_accuracy: 0.8686\n",
      "Epoch 70/100\n",
      "1422/1422 [==============================] - 12s 9ms/step - loss: 0.0493 - accuracy: 0.8652 - val_loss: 0.0507 - val_accuracy: 0.8507\n",
      "Epoch 71/100\n",
      "1422/1422 [==============================] - 11s 8ms/step - loss: 0.0490 - accuracy: 0.8669 - val_loss: 0.0469 - val_accuracy: 0.8661\n",
      "Epoch 72/100\n",
      "1422/1422 [==============================] - 12s 8ms/step - loss: 0.0480 - accuracy: 0.8676 - val_loss: 0.0523 - val_accuracy: 0.8544\n",
      "Epoch 73/100\n",
      "1422/1422 [==============================] - 12s 8ms/step - loss: 0.0488 - accuracy: 0.8646 - val_loss: 0.0471 - val_accuracy: 0.8703\n",
      "Epoch 74/100\n",
      "1422/1422 [==============================] - 11s 7ms/step - loss: 0.0486 - accuracy: 0.8676 - val_loss: 0.0456 - val_accuracy: 0.8691\n",
      "Epoch 75/100\n",
      "1422/1422 [==============================] - 16s 11ms/step - loss: 0.0472 - accuracy: 0.8686 - val_loss: 0.0475 - val_accuracy: 0.8704\n",
      "Epoch 76/100\n",
      "1422/1422 [==============================] - 11s 8ms/step - loss: 0.0473 - accuracy: 0.8682 - val_loss: 0.0458 - val_accuracy: 0.8655\n",
      "Epoch 77/100\n",
      "1422/1422 [==============================] - 10s 7ms/step - loss: 0.0487 - accuracy: 0.8652 - val_loss: 0.0465 - val_accuracy: 0.8724\n",
      "Epoch 78/100\n",
      "1422/1422 [==============================] - 11s 8ms/step - loss: 0.0482 - accuracy: 0.8663 - val_loss: 0.0472 - val_accuracy: 0.8689\n",
      "Epoch 79/100\n",
      "1422/1422 [==============================] - 11s 8ms/step - loss: 0.0460 - accuracy: 0.8699 - val_loss: 0.0631 - val_accuracy: 0.8293\n",
      "Epoch 80/100\n",
      "1422/1422 [==============================] - 12s 9ms/step - loss: 0.0471 - accuracy: 0.8680 - val_loss: 0.0444 - val_accuracy: 0.8773\n",
      "Epoch 81/100\n",
      "1422/1422 [==============================] - 12s 9ms/step - loss: 0.0467 - accuracy: 0.8682 - val_loss: 0.0460 - val_accuracy: 0.8676\n",
      "Epoch 82/100\n",
      "1422/1422 [==============================] - 10s 7ms/step - loss: 0.0468 - accuracy: 0.8688 - val_loss: 0.0450 - val_accuracy: 0.8707\n",
      "Epoch 83/100\n",
      "1422/1422 [==============================] - 10s 7ms/step - loss: 0.0464 - accuracy: 0.8688 - val_loss: 0.0704 - val_accuracy: 0.8331\n",
      "Epoch 84/100\n",
      "1422/1422 [==============================] - 10s 7ms/step - loss: 0.0473 - accuracy: 0.8683 - val_loss: 0.0443 - val_accuracy: 0.8731\n",
      "Epoch 85/100\n",
      "1422/1422 [==============================] - 11s 8ms/step - loss: 0.0461 - accuracy: 0.8701 - val_loss: 0.0615 - val_accuracy: 0.8334\n",
      "Epoch 86/100\n",
      "1422/1422 [==============================] - 14s 10ms/step - loss: 0.0454 - accuracy: 0.8707 - val_loss: 0.0438 - val_accuracy: 0.8738\n",
      "Epoch 87/100\n",
      "1422/1422 [==============================] - 13s 9ms/step - loss: 0.0482 - accuracy: 0.8663 - val_loss: 0.0470 - val_accuracy: 0.8726\n",
      "Epoch 88/100\n",
      "1422/1422 [==============================] - 13s 9ms/step - loss: 0.0454 - accuracy: 0.8708 - val_loss: 0.0449 - val_accuracy: 0.8681\n",
      "Epoch 89/100\n",
      "1422/1422 [==============================] - 12s 8ms/step - loss: 0.0457 - accuracy: 0.8698 - val_loss: 0.0472 - val_accuracy: 0.8734\n",
      "Epoch 90/100\n",
      "1422/1422 [==============================] - 12s 8ms/step - loss: 0.0468 - accuracy: 0.8677 - val_loss: 0.0440 - val_accuracy: 0.8737\n",
      "Epoch 91/100\n",
      "1422/1422 [==============================] - 12s 9ms/step - loss: 0.0453 - accuracy: 0.8695 - val_loss: 0.0458 - val_accuracy: 0.8589\n",
      "Epoch 92/100\n",
      "1422/1422 [==============================] - 11s 8ms/step - loss: 0.0490 - accuracy: 0.8667 - val_loss: 0.0444 - val_accuracy: 0.8762\n",
      "Epoch 93/100\n",
      "1422/1422 [==============================] - 12s 8ms/step - loss: 0.0447 - accuracy: 0.8717 - val_loss: 0.0435 - val_accuracy: 0.8742\n",
      "Epoch 94/100\n",
      "1422/1422 [==============================] - 11s 8ms/step - loss: 0.0448 - accuracy: 0.8705 - val_loss: 0.0438 - val_accuracy: 0.8736\n",
      "Epoch 95/100\n",
      "1422/1422 [==============================] - 10s 7ms/step - loss: 0.0452 - accuracy: 0.8694 - val_loss: 0.0439 - val_accuracy: 0.8736\n",
      "Epoch 96/100\n",
      "1422/1422 [==============================] - 10s 7ms/step - loss: 0.0452 - accuracy: 0.8695 - val_loss: 0.0580 - val_accuracy: 0.8461\n",
      "Epoch 97/100\n",
      "1422/1422 [==============================] - 11s 8ms/step - loss: 0.0446 - accuracy: 0.8712 - val_loss: 0.0414 - val_accuracy: 0.8796\n",
      "Epoch 98/100\n",
      "1422/1422 [==============================] - 11s 7ms/step - loss: 0.0441 - accuracy: 0.8712 - val_loss: 0.0484 - val_accuracy: 0.8699\n",
      "Epoch 99/100\n",
      "1422/1422 [==============================] - 11s 7ms/step - loss: 0.0435 - accuracy: 0.8723 - val_loss: 0.0437 - val_accuracy: 0.8721\n",
      "Epoch 100/100\n",
      "1422/1422 [==============================] - 11s 8ms/step - loss: 0.0435 - accuracy: 0.8717 - val_loss: 0.0466 - val_accuracy: 0.8609\n"
     ]
    }
   ],
   "source": [
    "autoencoder.compile(metrics=['accuracy'],\n",
    "                    loss='mean_squared_error',\n",
    "                    optimizer='adam')\n",
    "\n",
    "cp = ModelCheckpoint(filepath=\"autoencoder_classifier.h5\",\n",
    "                               save_best_only=True,\n",
    "                               verbose=0)\n",
    "\n",
    "tb = TensorBoard(log_dir='./logs',\n",
    "                histogram_freq=0,\n",
    "                write_graph=True,\n",
    "                write_images=True)\n",
    "\n",
    "history = autoencoder.fit(df_train_0_x_rescaled, df_train_0_x_rescaled,\n",
    "                    epochs=nb_epoch,\n",
    "                    batch_size=batch_size,\n",
    "                    shuffle=True,\n",
    "                    validation_data=(df_valid_0_x_rescaled, df_valid_0_x_rescaled),\n",
    "                    verbose=1,\n",
    "                    callbacks=[cp, tb]).history"
   ]
  },
  {
   "cell_type": "code",
   "execution_count": 10,
   "metadata": {},
   "outputs": [],
   "source": [
    "autoencoder = load_model('autoencoder_classifier.h5')"
   ]
  },
  {
   "cell_type": "code",
   "execution_count": 11,
   "metadata": {},
   "outputs": [
    {
     "data": {
      "image/png": "[encoded data removed]",
      "text/plain": [
       "<Figure size 576x432 with 1 Axes>"
      ]
     },
     "metadata": {
      "needs_background": "light"
     },
     "output_type": "display_data"
    }
   ],
   "source": [
    "plt.plot(history['loss'], linewidth=2, label='Train')\n",
    "plt.plot(history['val_loss'], linewidth=2, label='Valid')\n",
    "plt.legend(loc='upper right')\n",
    "plt.title('Model loss')\n",
    "plt.ylabel('Loss')\n",
    "plt.xlabel('Epoch')\n",
    "plt.show()"
   ]
  },
  {
   "cell_type": "markdown",
   "metadata": {},
   "source": [
    "### Classification\n",
    "\n",
    "Next, we show how we can use an Autoencoder reconstruction error for rare event classification.\n",
    "As mentioned above, if the reconstruction error is high, we will classify it as a fraudulent operation. We will need to determine the threshold for this.\n",
    "We will use the validation set to identify the threshold. We should not estimate the classification threshold from the test data. It will result in an **overfit**."
   ]
  },
  {
   "cell_type": "code",
   "execution_count": 12,
   "metadata": {},
   "outputs": [
    {
     "name": "stdout",
     "output_type": "stream",
     "text": [
      "   2/1425 [..............................] - ETA: 1:31 "
     ]
    },
    {
     "name": "stderr",
     "output_type": "stream",
     "text": [
      "2022-07-24 19:19:41.876874: I tensorflow/core/grappler/optimizers/custom_graph_optimizer_registry.cc:113] Plugin optimizer for device_type GPU is enabled.\n"
     ]
    },
    {
     "name": "stdout",
     "output_type": "stream",
     "text": [
      "1425/1425 [==============================] - 4s 2ms/step\n"
     ]
    }
   ],
   "source": [
    "valid_x_predictions = autoencoder.predict(df_valid_x_rescaled)\n",
    "mse = np.mean(np.power(df_valid_x_rescaled - valid_x_predictions, 2), axis=1)\n",
    "error_df = pd.DataFrame({'Reconstruction_error': mse,\n",
    "                        'True_class': df_valid['Class']})"
   ]
  },
  {
   "cell_type": "code",
   "execution_count": 13,
   "metadata": {},
   "outputs": [
    {
     "data": {
      "image/png": "[encoded data removed]",
      "text/plain": [
       "<Figure size 576x432 with 1 Axes>"
      ]
     },
     "metadata": {
      "needs_background": "light"
     },
     "output_type": "display_data"
    }
   ],
   "source": [
    "precision_rt, recall_rt, threshold_rt = precision_recall_curve(error_df.True_class, error_df.Reconstruction_error)\n",
    "plt.plot(threshold_rt, precision_rt[1:], label=\"Precision\",linewidth=5)\n",
    "plt.plot(threshold_rt, recall_rt[1:], label=\"Recall\",linewidth=5)\n",
    "plt.title('Precision and recall for different threshold values')\n",
    "plt.xlabel('Threshold')\n",
    "plt.ylabel('Precision/Recall')\n",
    "plt.legend()\n",
    "plt.show()"
   ]
  },
  {
   "cell_type": "markdown",
   "metadata": {},
   "source": [
    "A threshold of 4 should provide a reasonable trade-off between accuracy and recovery."
   ]
  },
  {
   "cell_type": "code",
   "execution_count": 14,
   "metadata": {},
   "outputs": [
    {
     "name": "stdout",
     "output_type": "stream",
     "text": [
      "1781/1781 [==============================] - 3s 2ms/step\n"
     ]
    }
   ],
   "source": [
    "test_x_predictions = autoencoder.predict(df_test_x_rescaled)\n",
    "mse = np.mean(np.power(df_test_x_rescaled - test_x_predictions, 2), axis=1)\n",
    "error_df_test = pd.DataFrame({'Reconstruction_error': mse,\n",
    "                        'True_class': df_test['Class']})\n",
    "error_df_test = error_df_test.reset_index()"
   ]
  },
  {
   "cell_type": "code",
   "execution_count": 15,
   "metadata": {},
   "outputs": [
    {
     "data": {
      "image/png": "[encoded data removed]",
      "text/plain": [
       "<Figure size 576x432 with 1 Axes>"
      ]
     },
     "metadata": {
      "needs_background": "light"
     },
     "output_type": "display_data"
    }
   ],
   "source": [
    "threshold_fixed = 4\n",
    "groups = error_df_test.groupby('True_class')\n",
    "\n",
    "fig, ax = plt.subplots()\n",
    "\n",
    "for name, group in groups:\n",
    "    ax.plot(group.index, group.Reconstruction_error, marker='o', ms=3.5, linestyle='',\n",
    "            label= \"Fraudulent\" if name == 1 else \"Normal\")\n",
    "ax.hlines(threshold_fixed, ax.get_xlim()[0], ax.get_xlim()[1], colors=\"r\", zorder=100, label='Threshold')\n",
    "ax.legend()\n",
    "plt.title(\"Reconstruction error for different classes\")\n",
    "plt.ylabel(\"Reconstruction error\")\n",
    "plt.xlabel(\"Data point index\")\n",
    "plt.show();"
   ]
  },
  {
   "cell_type": "markdown",
   "metadata": {},
   "source": [
    "Using threshold = 4 for classification. The orange and blue dots above the threshold line represent true positive and false positive, respectively."
   ]
  },
  {
   "cell_type": "code",
   "execution_count": 16,
   "metadata": {},
   "outputs": [],
   "source": [
    "pred_y = [1 if e > threshold_fixed else 0 for e in error_df.Reconstruction_error.values]"
   ]
  },
  {
   "cell_type": "code",
   "execution_count": 17,
   "metadata": {},
   "outputs": [],
   "source": [
    "predictions = pd.DataFrame({'true': error_df.True_class,\n",
    "                           'predicted': pred_y})"
   ]
  },
  {
   "cell_type": "code",
   "execution_count": 18,
   "metadata": {},
   "outputs": [
    {
     "data": {
      "image/png": "[encoded data removed]",
      "text/plain": [
       "<Figure size 576x576 with 2 Axes>"
      ]
     },
     "metadata": {
      "needs_background": "light"
     },
     "output_type": "display_data"
    }
   ],
   "source": [
    "conf_matrix = confusion_matrix(error_df.True_class, pred_y)\n",
    "plt.figure(figsize=(8, 8))\n",
    "sns.heatmap(conf_matrix, xticklabels=LABELS, yticklabels=LABELS, annot=True, fmt=\"d\");\n",
    "plt.title(\"Confusion matrix\")\n",
    "plt.ylabel('True class')\n",
    "plt.xlabel('Predicted class')\n",
    "plt.show()"
   ]
  },
  {
   "cell_type": "code",
   "execution_count": 19,
   "metadata": {},
   "outputs": [
    {
     "data": {
      "image/png": "[encoded data removed]",
      "text/plain": [
       "<Figure size 576x432 with 1 Axes>"
      ]
     },
     "metadata": {
      "needs_background": "light"
     },
     "output_type": "display_data"
    }
   ],
   "source": [
    "false_pos_rate, true_pos_rate, thresholds = roc_curve(error_df.True_class, error_df.Reconstruction_error)\n",
    "roc_auc = auc(false_pos_rate, true_pos_rate,)\n",
    "\n",
    "plt.plot(false_pos_rate, true_pos_rate, linewidth=5, label='AUC = %0.3f'% roc_auc)\n",
    "plt.plot([0,1],[0,1], linewidth=5)\n",
    "\n",
    "plt.xlim([-0.01, 1])\n",
    "plt.ylim([0, 1.01])\n",
    "plt.legend(loc='lower right')\n",
    "plt.title('Receiver operating characteristic curve (ROC)')\n",
    "plt.ylabel('True Positive Rate')\n",
    "plt.xlabel('False Positive Rate')\n",
    "plt.show()"
   ]
  },
  {
   "cell_type": "code",
   "execution_count": null,
   "metadata": {},
   "outputs": [],
   "source": []
  }
 ],
 "metadata": {
  "kernelspec": {
   "display_name": "Python 3.9.6 ('.venv': poetry)",
   "language": "python",
   "name": "python3"
  },
  "language_info": {
   "codemirror_mode": {
    "name": "ipython",
    "version": 3
   },
   "file_extension": ".py",
   "mimetype": "text/x-python",
   "name": "python",
   "nbconvert_exporter": "python",
   "pygments_lexer": "ipython3",
   "version": "3.9.6"
  },
  "orig_nbformat": 4,
  "vscode": {
   "interpreter": {
    "hash": "6674d68b9ed96f131a6cccb0fe2774d992ddf6fcf4c4b9a54a5705310ca5e035"
   }
  }
 },
 "nbformat": 4,
 "nbformat_minor": 2
}
